{
 "cells": [
  {
   "cell_type": "markdown",
   "metadata": {},
   "source": [
    "# LSTM Model Tuning-1"
   ]
  },
  {
   "cell_type": "markdown",
   "metadata": {},
   "source": [
    "## Import libraries"
   ]
  },
  {
   "cell_type": "code",
   "execution_count": null,
   "metadata": {},
   "outputs": [],
   "source": [
    "# import basic data processing and plot libraries\n",
    "import numpy as np\n",
    "import pandas as pd\n",
    "import matplotlib.pyplot as plt\n",
    "from matplotlib import pyplot as plt\n",
    "\n",
    "# import keras \n",
    "from keras.callbacks import CSVLogger\n",
    "from tensorflow import keras\n",
    "from tensorflow.keras import layers\n",
    "from kerastuner.tuners import BayesianOptimization\n",
    "\n",
    "# Install Keras tuner library\n",
    "!pip install -U keras-tuner"
   ]
  },
  {
   "cell_type": "markdown",
   "metadata": {},
   "source": [
    "## Load preprocessed transmission data"
   ]
  },
  {
   "cell_type": "code",
   "execution_count": null,
   "metadata": {},
   "outputs": [],
   "source": [
    "train_1 = np.load('5_mtd_train_restruct.npz')['dat_tr']\n",
    "train_2 = np.load('5_mtd_train_restruct.npz')['lbl_tr']\n",
    "test_1= np.load('5_mtd_test_restruct.npz')['dat_ts']\n",
    "test_2 = np.load('5_mtd_test_restruct.npz')['lbl_ts']"
   ]
  },
  {
   "cell_type": "markdown",
   "metadata": {},
   "source": [
    "## Hyperparameter optimization"
   ]
  },
  {
   "cell_type": "code",
   "execution_count": null,
   "metadata": {},
   "outputs": [],
   "source": [
    "def build_regressor(hp):\n",
    "    regressor = keras.Sequential()\n",
    "    \n",
    "    # Adding a input LSTM layer and some Dropout regularisation\n",
    "    regressor.add(layers.LSTM(units=hp.Int('input_layer_units',\n",
    "                                        min_value=10,\n",
    "                                        max_value=200,\n",
    "                                        step=10), return_sequences = True, input_shape = (train_1.shape[1], 5)))\n",
    "    regressor.add(layers.Dropout(0.25))\n",
    "    \n",
    "    for i in range(hp.Int('n_layers', 0, 2)):\n",
    "            \n",
    "        # Adding a hidden LSTM layer and some Dropout regularisation\n",
    "        regressor.add(layers.LSTM(units=hp.Int(f'hidden_layer_{i}_units',\n",
    "                                        min_value=10,\n",
    "                                        max_value=200,\n",
    "                                        step=10), return_sequences = True))\n",
    "        regressor.add(layers.Dropout(0.25))\n",
    "    \n",
    "    # Adding a fourth LSTM layer and some Dropout regularisation\n",
    "    regressor.add(layers.LSTM(units=hp.Int('hidden_layer_units',\n",
    "                                        min_value=10,\n",
    "                                        max_value=200,\n",
    "                                        step=10)))\n",
    "    regressor.add(layers.Dropout(0.25))\n",
    "\n",
    "    # Adding the output layer\n",
    "    regressor.add(layers.Dense(units = 5))\n",
    "\n",
    "    # Compiling the RNN\n",
    "    regressor.compile(optimizer = 'adam', loss = 'mean_squared_error',metrics=['binary_accuracy'])\n",
    "    \n",
    "    # Fitting the RNN to the Training set\n",
    "    regressor.summary();\n",
    "    \n",
    "\n",
    "    return regressor"
   ]
  },
  {
   "cell_type": "code",
   "execution_count": null,
   "metadata": {},
   "outputs": [],
   "source": [
    "tuner1 = BayesianOptimization(hypermodel = build_regressor, objective='val_binary_accuracy', max_trials=30)"
   ]
  },
  {
   "cell_type": "code",
   "execution_count": null,
   "metadata": {},
   "outputs": [],
   "source": [
    "tuner1.search_space_summary()"
   ]
  },
  {
   "cell_type": "markdown",
   "metadata": {},
   "source": [
    "Then CSVLogger function has been used to save training log of each tuning trial as a CSV file for later tuning results analysis.  "
   ]
  },
  {
   "cell_type": "code",
   "execution_count": null,
   "metadata": {},
   "outputs": [],
   "source": [
    "csv_logger1 = CSVLogger('log5.csv', append=True, separator=',')"
   ]
  },
  {
   "cell_type": "code",
   "execution_count": null,
   "metadata": {},
   "outputs": [],
   "source": [
    "history = tuner1.search(x=train_1,\n",
    "             y=train_2,\n",
    "             verbose=2, # just slapping this here bc jupyter notebook. The console out was getting messy.\n",
    "             epochs=100,\n",
    "             batch_size=120,\n",
    "             callbacks=[csv_logger1],  # if you have callbacks like tensorboard, they go here.\n",
    "             validation_data=(test_1, test_2))"
   ]
  },
  {
   "cell_type": "code",
   "execution_count": null,
   "metadata": {},
   "outputs": [],
   "source": [
    "models = tuner1.get_best_models(num_models=2)"
   ]
  },
  {
   "cell_type": "code",
   "execution_count": null,
   "metadata": {},
   "outputs": [],
   "source": [
    "tuner1.results_summary()"
   ]
  },
  {
   "cell_type": "code",
   "execution_count": null,
   "metadata": {},
   "outputs": [],
   "source": [
    "def build_regressor(hp):\n",
    "    regressor = keras.Sequential()\n",
    "    \n",
    "    # Adding a input LSTM layer and some Dropout regularisation\n",
    "    regressor.add(layers.LSTM(units=hp.Int('input_layer_units',\n",
    "                                        min_value=10,\n",
    "                                        max_value=200,\n",
    "                                        step=10), input_shape = (train_1.shape[1], 5)))\n",
    "    regressor.add(layers.Dropout(0.25))\n",
    "\n",
    "    # Adding the output layer\n",
    "    regressor.add(layers.Dense(units = 5))\n",
    "\n",
    "    # Compiling the RNN\n",
    "    regressor.compile(optimizer = 'adam', loss = 'mean_squared_error',metrics=['binary_accuracy'])\n",
    "    \n",
    "    # Fitting the RNN to the Training set\n",
    "    regressor.summary();\n",
    "\n",
    "    return regressor"
   ]
  },
  {
   "cell_type": "code",
   "execution_count": null,
   "metadata": {},
   "outputs": [],
   "source": [
    "tuner2 = BayesianOptimization(hypermodel = build_regressor, objective='val_binary_accuracy', max_trials=10)"
   ]
  },
  {
   "cell_type": "code",
   "execution_count": null,
   "metadata": {},
   "outputs": [],
   "source": [
    "tuner2.search_space_summary()"
   ]
  },
  {
   "cell_type": "code",
   "execution_count": null,
   "metadata": {},
   "outputs": [],
   "source": [
    "csv_logger = CSVLogger('log6.csv', append=True, separator=',')"
   ]
  },
  {
   "cell_type": "code",
   "execution_count": null,
   "metadata": {},
   "outputs": [],
   "source": [
    "history = tuner2.search(x=train_1,\n",
    "             y=train_2,\n",
    "             verbose=2, # just slapping this here bc jupyter notebook. The console out was getting messy.\n",
    "             epochs=100,\n",
    "             batch_size=120,\n",
    "             callbacks=[csv_logger],  # if you have callbacks like tensorboard, they go here.\n",
    "             validation_data=(test_1, test_2))"
   ]
  },
  {
   "cell_type": "code",
   "execution_count": null,
   "metadata": {},
   "outputs": [],
   "source": [
    "tuner2.get_best_models(num_models=2)"
   ]
  },
  {
   "cell_type": "code",
   "execution_count": null,
   "metadata": {},
   "outputs": [],
   "source": [
    "tuner2.results_summary()"
   ]
  },
  {
   "cell_type": "code",
   "execution_count": null,
   "metadata": {},
   "outputs": [],
   "source": [
    "def build_regressor(hp):\n",
    "    regressor = keras.Sequential()\n",
    "    \n",
    "    # Adding a input LSTM layer and some Dropout regularisation\n",
    "    regressor.add(layers.LSTM(units=hp.Int('input_layer_units',\n",
    "                                        min_value=100,\n",
    "                                        max_value=200,\n",
    "                                        step=10), input_shape = (train_1.shape[1], 5)))\n",
    "    regressor.add(layers.Dropout(0.25))\n",
    "\n",
    "    # Adding the output layer\n",
    "    regressor.add(layers.Dense(units = 5))\n",
    "\n",
    "    # Compiling the RNN\n",
    "    regressor.compile(optimizer = 'adam', loss = 'mean_squared_error',metrics=['binary_accuracy'])\n",
    "    \n",
    "    # Fitting the RNN to the Training set\n",
    "    regressor.summary();\n",
    "\n",
    "    return regressor"
   ]
  },
  {
   "cell_type": "code",
   "execution_count": null,
   "metadata": {},
   "outputs": [],
   "source": [
    "tuner2 = BayesianOptimization(hypermodel = build_regressor, objective='val_binary_accuracy', max_trials=10)"
   ]
  },
  {
   "cell_type": "code",
   "execution_count": null,
   "metadata": {},
   "outputs": [],
   "source": [
    "tuner2.search_space_summary()"
   ]
  },
  {
   "cell_type": "code",
   "execution_count": null,
   "metadata": {},
   "outputs": [],
   "source": [
    "tuner2.search(x=train_1,\n",
    "             y=train_2,\n",
    "             verbose=2, # just slapping this here bc jupyter notebook. The console out was getting messy.\n",
    "             epochs=100,\n",
    "             batch_size=120,\n",
    "              callbacks=[csv_logger],\n",
    "             validation_data=(test_1, test_2))"
   ]
  },
  {
   "cell_type": "code",
   "execution_count": null,
   "metadata": {},
   "outputs": [],
   "source": [
    "tuner2.get_best_models(num_models=2)"
   ]
  },
  {
   "cell_type": "code",
   "execution_count": null,
   "metadata": {},
   "outputs": [],
   "source": [
    "tuner2.results_summary()"
   ]
  }
 ],
 "metadata": {
  "kernelspec": {
   "display_name": "conda_amazonei_tensorflow_p36",
   "language": "python",
   "name": "conda_amazonei_tensorflow_p36"
  },
  "language_info": {
   "codemirror_mode": {
    "name": "ipython",
    "version": 3
   },
   "file_extension": ".py",
   "mimetype": "text/x-python",
   "name": "python",
   "nbconvert_exporter": "python",
   "pygments_lexer": "ipython3",
   "version": "3.6.10"
  }
 },
 "nbformat": 4,
 "nbformat_minor": 4
}
