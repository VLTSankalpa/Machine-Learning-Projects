{
 "cells": [
  {
   "cell_type": "markdown",
   "metadata": {},
   "source": [
    "# Data Preprocessing"
   ]
  },
  {
   "cell_type": "markdown",
   "metadata": {},
   "source": [
    "## Import libraries"
   ]
  },
  {
   "cell_type": "code",
   "execution_count": 23,
   "metadata": {},
   "outputs": [],
   "source": [
    "import numpy as np\n",
    "import pandas as pd\n",
    "import seaborn as sns\n",
    "import matplotlib.pylab as plt\n",
    "from IPython.display import Image\n",
    "from IPython.core.display import HTML"
   ]
  },
  {
   "cell_type": "markdown",
   "metadata": {},
   "source": [
    "## Load Transmission data (MTD_tx CSV file)"
   ]
  },
  {
   "cell_type": "code",
   "execution_count": 24,
   "metadata": {},
   "outputs": [
    {
     "data": {
      "text/plain": [
       "(12000, 5)"
      ]
     },
     "execution_count": 24,
     "metadata": {},
     "output_type": "execute_result"
    }
   ],
   "source": [
    "MTD_Tx = pd.read_csv('MTD_Tx.csv')\n",
    "MTD_Tx = np.array(MTD_Tx)\n",
    "MTD_Tx.shape"
   ]
  },
  {
   "cell_type": "code",
   "execution_count": 25,
   "metadata": {},
   "outputs": [
    {
     "data": {
      "text/plain": [
       "array([[0, 1, 0, 0, 0],\n",
       "       [0, 1, 0, 0, 0],\n",
       "       [1, 1, 0, 1, 0],\n",
       "       [1, 0, 0, 1, 1],\n",
       "       [1, 1, 0, 1, 1],\n",
       "       [1, 1, 1, 0, 1],\n",
       "       [0, 0, 1, 0, 0],\n",
       "       [0, 1, 0, 1, 0],\n",
       "       [1, 1, 1, 0, 1],\n",
       "       [1, 0, 0, 0, 0],\n",
       "       [0, 1, 0, 1, 0],\n",
       "       [0, 1, 1, 0, 1],\n",
       "       [0, 1, 0, 1, 0],\n",
       "       [0, 1, 0, 0, 1],\n",
       "       [1, 1, 0, 1, 0],\n",
       "       [1, 1, 0, 1, 1],\n",
       "       [1, 0, 0, 1, 1],\n",
       "       [1, 0, 1, 1, 1],\n",
       "       [0, 1, 0, 0, 1],\n",
       "       [0, 1, 0, 0, 0]])"
      ]
     },
     "execution_count": 25,
     "metadata": {},
     "output_type": "execute_result"
    }
   ],
   "source": [
    "MTD_Tx[0:20,:]"
   ]
  },
  {
   "cell_type": "markdown",
   "metadata": {},
   "source": [
    "## Transmission Data Splitting (Training and testing)\n",
    "\n",
    "First transmission data split in to training and testing datasets where 80% of transmission data use for LSTM model training and rest 20% use for LSTM model testing purposes."
   ]
  },
  {
   "cell_type": "code",
   "execution_count": 26,
   "metadata": {},
   "outputs": [],
   "source": [
    "training = MTD_Tx[:9600,:]\n",
    "testing = MTD_Tx[9600:12000,:]"
   ]
  },
  {
   "cell_type": "code",
   "execution_count": 27,
   "metadata": {},
   "outputs": [
    {
     "data": {
      "text/plain": [
       "(2400, 5)"
      ]
     },
     "execution_count": 27,
     "metadata": {},
     "output_type": "execute_result"
    }
   ],
   "source": [
    "testing.shape"
   ]
  },
  {
   "cell_type": "code",
   "execution_count": 28,
   "metadata": {},
   "outputs": [
    {
     "data": {
      "text/plain": [
       "(9600, 5)"
      ]
     },
     "execution_count": 28,
     "metadata": {},
     "output_type": "execute_result"
    }
   ],
   "source": [
    "training.shape"
   ]
  },
  {
   "cell_type": "markdown",
   "metadata": {},
   "source": [
    "## Data Reshaping and Reconstructing\n",
    "\n",
    "Following Python code use for data preprocessing. NumPy inbuilt array manipulation functions such as reshape, append, delete and indexing apply on (9600, 5) shape training dataset to get independent and depended training-feature of matrix with shape of (9588, 12, 5) and (9588, 5) respectively. Similar way same set of functions apply on (2400, 5) shape testing dataset to get independent and depended testing-feature of matrix with shape of (2388, 12, 5) and (2388, 5) respectively. Finally, all 4 matrix save as NPZ files by np.savez function."
   ]
  },
  {
   "cell_type": "code",
   "execution_count": 36,
   "metadata": {},
   "outputs": [
    {
     "data": {
      "text/html": [
       "<img src=\"Picture2.png\" width=\"1000\" height=\"1000\"/>"
      ],
      "text/plain": [
       "<IPython.core.display.Image object>"
      ]
     },
     "execution_count": 36,
     "metadata": {},
     "output_type": "execute_result"
    }
   ],
   "source": [
    "Image(url= \"Picture2.png\", width=1000, height=1000)"
   ]
  },
  {
   "cell_type": "code",
   "execution_count": 29,
   "metadata": {},
   "outputs": [],
   "source": [
    "X_training = np.empty((9588,12,1))\n",
    "Y_training = np.empty((9588,1))\n",
    "X_testing = np.empty((2388,12,1))\n",
    "Y_testing = np.empty((2388,1))\n",
    "\n",
    "for n in range(0,5):\n",
    "    \n",
    "    X_training_MTD = []\n",
    "    Y_training_MTD = []\n",
    "    X_testing_MTD = []\n",
    "    Y_testing_MTD = []\n",
    "    \n",
    "    for i in range(12, 9600):\n",
    "        \n",
    "        X_training_MTD.append(training[i-12:i, n])\n",
    "        Y_training_MTD.append(training[i, n])\n",
    "        \n",
    "    for k in range(12,2400):\n",
    "        \n",
    "        X_testing_MTD.append(testing[k-12:k, n])\n",
    "        Y_testing_MTD.append(testing[k, n])\n",
    "    \n",
    "    X_training_MTD, Y_training_MTD = np.array(X_training_MTD), np.array(Y_training_MTD)\n",
    "    X_testing_MTD, Y_testing_MTD = np.array(X_testing_MTD), np.array(Y_testing_MTD)\n",
    "    \n",
    "    X_training_MTD = np.reshape(X_training_MTD, (X_training_MTD.shape[0], X_training_MTD.shape[1], 1))\n",
    "    Y_training_MTD = np.reshape(Y_training_MTD, (Y_training_MTD.shape[0],1))\n",
    "    \n",
    "    X_testing_MTD = np.reshape(X_testing_MTD, (X_testing_MTD.shape[0], X_testing_MTD.shape[1], 1))\n",
    "    Y_testing_MTD = np.reshape(Y_testing_MTD, (Y_testing_MTD.shape[0],1))\n",
    "    \n",
    "    X_training = np.append(X_training, X_training_MTD, axis=2)\n",
    "    Y_training = np.append(Y_training, Y_training_MTD, axis=1)\n",
    "    \n",
    "    X_testing = np.append(X_testing, X_testing_MTD, axis=2)\n",
    "    Y_testing = np.append(Y_testing, Y_testing_MTD, axis=1)\n",
    "    \n",
    "X_training = np.delete(X_training, 0, axis=2)\n",
    "Y_training = np.delete(Y_training, 0, axis=1)\n",
    "\n",
    "X_testing = np.delete(X_testing, 0, axis=2)\n",
    "Y_testing = np.delete(Y_testing, 0, axis=1)"
   ]
  },
  {
   "cell_type": "markdown",
   "metadata": {},
   "source": [
    "## Training independent feature of matrix"
   ]
  },
  {
   "cell_type": "code",
   "execution_count": 30,
   "metadata": {},
   "outputs": [
    {
     "data": {
      "text/plain": [
       "(9588, 12, 5)"
      ]
     },
     "execution_count": 30,
     "metadata": {},
     "output_type": "execute_result"
    }
   ],
   "source": [
    "X_training.shape"
   ]
  },
  {
   "cell_type": "markdown",
   "metadata": {},
   "source": [
    "## Training dependent feature of matrix"
   ]
  },
  {
   "cell_type": "code",
   "execution_count": 31,
   "metadata": {},
   "outputs": [
    {
     "data": {
      "text/plain": [
       "(9588, 5)"
      ]
     },
     "execution_count": 31,
     "metadata": {},
     "output_type": "execute_result"
    }
   ],
   "source": [
    "Y_training.shape"
   ]
  },
  {
   "cell_type": "markdown",
   "metadata": {},
   "source": [
    "## Testing independent feature of matrix"
   ]
  },
  {
   "cell_type": "code",
   "execution_count": 32,
   "metadata": {},
   "outputs": [
    {
     "data": {
      "text/plain": [
       "(2388, 12, 5)"
      ]
     },
     "execution_count": 32,
     "metadata": {},
     "output_type": "execute_result"
    }
   ],
   "source": [
    "X_testing.shape"
   ]
  },
  {
   "cell_type": "markdown",
   "metadata": {},
   "source": [
    "## Testing dependent feature of matrix"
   ]
  },
  {
   "cell_type": "code",
   "execution_count": 33,
   "metadata": {},
   "outputs": [
    {
     "data": {
      "text/plain": [
       "(2388, 5)"
      ]
     },
     "execution_count": 33,
     "metadata": {},
     "output_type": "execute_result"
    }
   ],
   "source": [
    "Y_testing.shape"
   ]
  },
  {
   "cell_type": "markdown",
   "metadata": {},
   "source": [
    "## Save preprocessed transmission data as NPZ files"
   ]
  },
  {
   "cell_type": "code",
   "execution_count": null,
   "metadata": {},
   "outputs": [],
   "source": [
    "np.savez('5_mtd_train_restruct', dat_tr=X_training, lbl_tr=Y_training)\n",
    "np.savez('5_mtd_test_restruct', dat_ts=X_testing, lbl_ts=Y_testing)"
   ]
  }
 ],
 "metadata": {
  "kernelspec": {
   "display_name": "conda_amazonei_mxnet_p27",
   "language": "python",
   "name": "conda_amazonei_mxnet_p27"
  },
  "language_info": {
   "codemirror_mode": {
    "name": "ipython",
    "version": 2
   },
   "file_extension": ".py",
   "mimetype": "text/x-python",
   "name": "python",
   "nbconvert_exporter": "python",
   "pygments_lexer": "ipython2",
   "version": "2.7.17"
  }
 },
 "nbformat": 4,
 "nbformat_minor": 4
}
