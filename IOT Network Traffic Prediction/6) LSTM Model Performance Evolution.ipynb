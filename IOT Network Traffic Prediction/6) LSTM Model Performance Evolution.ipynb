{
 "cells": [
  {
   "cell_type": "markdown",
   "metadata": {},
   "source": [
    "# LSTM Model Performance Evolution\n",
    "\n",
    "The results obtained from the model gives us whether the devices in the MTD network will transmit or not during the future timesteps. In other words, after normalize and round up final LSTM of output values takes finery form. "
   ]
  },
  {
   "cell_type": "markdown",
   "metadata": {},
   "source": [
    "## Import libraries"
   ]
  },
  {
   "cell_type": "code",
   "execution_count": 1,
   "metadata": {},
   "outputs": [
    {
     "name": "stderr",
     "output_type": "stream",
     "text": [
      "Using TensorFlow backend.\n"
     ]
    }
   ],
   "source": [
    "import pandas as pd\n",
    "import numpy as np\n",
    "import matplotlib.pyplot as plt\n",
    "from matplotlib import pyplot as plt\n",
    "\n",
    "from sklearn.metrics import mean_squared_error\n",
    "\n",
    "from keras.models import Sequential\n",
    "from keras.layers import Dense, LSTM, Dropout, Flatten\n",
    "from keras import optimizers"
   ]
  },
  {
   "cell_type": "markdown",
   "metadata": {},
   "source": [
    "## Load MTD Transmission Data"
   ]
  },
  {
   "cell_type": "code",
   "execution_count": 2,
   "metadata": {},
   "outputs": [],
   "source": [
    "train_1 = np.load('5_mtd_train_restruct.npz')['dat_tr']\n",
    "train_2 = np.load('5_mtd_train_restruct.npz')['lbl_tr']\n",
    "test_1= np.load('5_mtd_test_restruct.npz')['dat_ts']\n",
    "test_2 = np.load('5_mtd_test_restruct.npz')['lbl_ts']"
   ]
  },
  {
   "cell_type": "markdown",
   "metadata": {},
   "source": [
    "## Train Optimal LSTM Model"
   ]
  },
  {
   "cell_type": "code",
   "execution_count": 3,
   "metadata": {},
   "outputs": [
    {
     "name": "stdout",
     "output_type": "stream",
     "text": [
      "WARNING:tensorflow:From /home/ec2-user/anaconda3/envs/amazonei_tensorflow_p36/lib/python3.6/site-packages/tensorflow_core/python/ops/resource_variable_ops.py:1630: calling BaseResourceVariable.__init__ (from tensorflow.python.ops.resource_variable_ops) with constraint is deprecated and will be removed in a future version.\n",
      "Instructions for updating:\n",
      "If using Keras pass *_constraint arguments to layers.\n",
      "WARNING:tensorflow:From /home/ec2-user/anaconda3/envs/amazonei_tensorflow_p36/lib/python3.6/site-packages/keras/backend/tensorflow_backend.py:422: The name tf.global_variables is deprecated. Please use tf.compat.v1.global_variables instead.\n",
      "\n",
      "Train on 9588 samples, validate on 2388 samples\n",
      "Epoch 1/26\n",
      "9588/9588 [==============================] - 2s 211us/step - loss: 0.2341 - binary_accuracy: 0.6194 - val_loss: 0.1991 - val_binary_accuracy: 0.6687\n",
      "Epoch 2/26\n",
      "9588/9588 [==============================] - 2s 166us/step - loss: 0.1813 - binary_accuracy: 0.7074 - val_loss: 0.1545 - val_binary_accuracy: 0.7499\n",
      "Epoch 3/26\n",
      "9588/9588 [==============================] - 2s 165us/step - loss: 0.1513 - binary_accuracy: 0.7576 - val_loss: 0.1320 - val_binary_accuracy: 0.7861\n",
      "Epoch 4/26\n",
      "9588/9588 [==============================] - 2s 165us/step - loss: 0.1362 - binary_accuracy: 0.7856 - val_loss: 0.1217 - val_binary_accuracy: 0.8161\n",
      "Epoch 5/26\n",
      "9588/9588 [==============================] - 2s 165us/step - loss: 0.1290 - binary_accuracy: 0.7992 - val_loss: 0.1181 - val_binary_accuracy: 0.8208\n",
      "Epoch 6/26\n",
      "9588/9588 [==============================] - 2s 165us/step - loss: 0.1249 - binary_accuracy: 0.8088 - val_loss: 0.1149 - val_binary_accuracy: 0.8190\n",
      "Epoch 7/26\n",
      "9588/9588 [==============================] - 2s 165us/step - loss: 0.1222 - binary_accuracy: 0.8101 - val_loss: 0.1128 - val_binary_accuracy: 0.8225\n",
      "Epoch 8/26\n",
      "9588/9588 [==============================] - 2s 171us/step - loss: 0.1211 - binary_accuracy: 0.8139 - val_loss: 0.1133 - val_binary_accuracy: 0.8204\n",
      "Epoch 9/26\n",
      "9588/9588 [==============================] - 2s 170us/step - loss: 0.1197 - binary_accuracy: 0.8148 - val_loss: 0.1124 - val_binary_accuracy: 0.8258\n",
      "Epoch 10/26\n",
      "9588/9588 [==============================] - 2s 166us/step - loss: 0.1189 - binary_accuracy: 0.8167 - val_loss: 0.1117 - val_binary_accuracy: 0.8205\n",
      "Epoch 11/26\n",
      "9588/9588 [==============================] - 2s 166us/step - loss: 0.1178 - binary_accuracy: 0.8185 - val_loss: 0.1098 - val_binary_accuracy: 0.8268\n",
      "Epoch 12/26\n",
      "9588/9588 [==============================] - 2s 164us/step - loss: 0.1167 - binary_accuracy: 0.8151 - val_loss: 0.1097 - val_binary_accuracy: 0.8240\n",
      "Epoch 13/26\n",
      "9588/9588 [==============================] - 2s 162us/step - loss: 0.1162 - binary_accuracy: 0.8176 - val_loss: 0.1100 - val_binary_accuracy: 0.8215\n",
      "Epoch 14/26\n",
      "9588/9588 [==============================] - 2s 166us/step - loss: 0.1154 - binary_accuracy: 0.8195 - val_loss: 0.1085 - val_binary_accuracy: 0.8231\n",
      "Epoch 15/26\n",
      "9588/9588 [==============================] - 2s 165us/step - loss: 0.1149 - binary_accuracy: 0.8200 - val_loss: 0.1095 - val_binary_accuracy: 0.8260\n",
      "Epoch 16/26\n",
      "9588/9588 [==============================] - 2s 166us/step - loss: 0.1142 - binary_accuracy: 0.8209 - val_loss: 0.1080 - val_binary_accuracy: 0.8270\n",
      "Epoch 17/26\n",
      "9588/9588 [==============================] - 2s 166us/step - loss: 0.1138 - binary_accuracy: 0.8203 - val_loss: 0.1083 - val_binary_accuracy: 0.8279\n",
      "Epoch 18/26\n",
      "9588/9588 [==============================] - 2s 169us/step - loss: 0.1130 - binary_accuracy: 0.8202 - val_loss: 0.1068 - val_binary_accuracy: 0.8275\n",
      "Epoch 19/26\n",
      "9588/9588 [==============================] - 2s 168us/step - loss: 0.1132 - binary_accuracy: 0.8222 - val_loss: 0.1068 - val_binary_accuracy: 0.8234\n",
      "Epoch 20/26\n",
      "9588/9588 [==============================] - 2s 169us/step - loss: 0.1125 - binary_accuracy: 0.8230 - val_loss: 0.1066 - val_binary_accuracy: 0.8283\n",
      "Epoch 21/26\n",
      "9588/9588 [==============================] - 2s 168us/step - loss: 0.1119 - binary_accuracy: 0.8227 - val_loss: 0.1061 - val_binary_accuracy: 0.8260\n",
      "Epoch 22/26\n",
      "9588/9588 [==============================] - 2s 163us/step - loss: 0.1114 - binary_accuracy: 0.8253 - val_loss: 0.1062 - val_binary_accuracy: 0.8286\n",
      "Epoch 23/26\n",
      "9588/9588 [==============================] - 2s 167us/step - loss: 0.1112 - binary_accuracy: 0.8229 - val_loss: 0.1051 - val_binary_accuracy: 0.8269\n",
      "Epoch 24/26\n",
      "9588/9588 [==============================] - 2s 166us/step - loss: 0.1109 - binary_accuracy: 0.8243 - val_loss: 0.1050 - val_binary_accuracy: 0.8288\n",
      "Epoch 25/26\n",
      "9588/9588 [==============================] - 3s 265us/step - loss: 0.1105 - binary_accuracy: 0.8245 - val_loss: 0.1052 - val_binary_accuracy: 0.8289\n",
      "Epoch 26/26\n",
      "9588/9588 [==============================] - 2s 169us/step - loss: 0.1095 - binary_accuracy: 0.8244 - val_loss: 0.1038 - val_binary_accuracy: 0.8310\n",
      "2388/2388 [==============================] - 0s 63us/step\n",
      "Validation loss    : 0.10382800907445713\n",
      "Validation accuracy: 0.8309882879257202\n"
     ]
    }
   ],
   "source": [
    "regressor = Sequential()\n",
    "\n",
    "regressor.add(LSTM(units = 100, input_shape = (train_1.shape[1], 5)))\n",
    "regressor.add(Dropout(0.25))\n",
    "\n",
    "# Adding the output layer\n",
    "regressor.add(Dense(units = 5))\n",
    "\n",
    "# Compiling the RNN\n",
    "regressor.compile(optimizer = 'adam', loss = 'mean_squared_error',metrics=['binary_accuracy'])\n",
    "\n",
    "# Fitting the RNN to the Training set\n",
    "history1 = regressor.fit(train_1, train_2, batch_size = 120, validation_data=(test_1, test_2), epochs = 26)\n",
    "\n",
    "score = regressor.evaluate(test_1, test_2)\n",
    "\n",
    "print('Validation loss    :', score[0])\n",
    "print('Validation accuracy:', score[1])"
   ]
  },
  {
   "cell_type": "markdown",
   "metadata": {},
   "source": [
    "## Model Testing"
   ]
  },
  {
   "cell_type": "code",
   "execution_count": 4,
   "metadata": {},
   "outputs": [
    {
     "name": "stdout",
     "output_type": "stream",
     "text": [
      "2388/2388 [==============================] - 0s 62us/step\n",
      "accucary: 0.8309882879257202\n",
      "loss: 0.10382800907445713\n"
     ]
    }
   ],
   "source": [
    "predicted = regressor.predict(test_1)\n",
    "loss, accuracy=regressor.evaluate(test_1, test_2)\n",
    "print(\"accucary: \" + str(accuracy) + \"\\n\" + \"loss: \" +  str(loss))"
   ]
  },
  {
   "cell_type": "markdown",
   "metadata": {},
   "source": [
    "## Normalizing LSTM output values"
   ]
  },
  {
   "cell_type": "code",
   "execution_count": 5,
   "metadata": {},
   "outputs": [],
   "source": [
    "normalized = (predicted-np.min(predicted))/(np.max(predicted)-np.min(predicted))"
   ]
  },
  {
   "cell_type": "markdown",
   "metadata": {},
   "source": [
    "## Rounding up normalized LSTM output values"
   ]
  },
  {
   "cell_type": "code",
   "execution_count": 6,
   "metadata": {},
   "outputs": [],
   "source": [
    "predict = np.round(normalized)"
   ]
  },
  {
   "cell_type": "markdown",
   "metadata": {},
   "source": [
    "## Define model performance evaluation function"
   ]
  },
  {
   "cell_type": "code",
   "execution_count": 7,
   "metadata": {},
   "outputs": [],
   "source": [
    "def accuracy(predicted, actual):\n",
    "    TP = 0\n",
    "    TN = 0\n",
    "    FP = 0\n",
    "    FN = 0\n",
    "    \n",
    "    for idx, value in np.ndenumerate(predicted):\n",
    "        if predicted[idx] == 1 and actual[idx] == 1:\n",
    "            TP+=1\n",
    "        elif predicted[idx] == 1 and actual[idx] == 0:\n",
    "            FP+=1\n",
    "        elif predicted[idx] == 0 and actual[idx] == 1:\n",
    "            FN+=1\n",
    "        elif predicted[idx] == 0 and actual[idx] == 0:\n",
    "            TN+=1\n",
    "            \n",
    "    precision= (TP / (TP + FP))*100\n",
    "    sensitivity = (TP / (TP + FN))*100\n",
    "    specificity = (TN / (FP + TN) )*100   \n",
    "    fscore = (2*TP /(2*TP + FP + FN)  )*100\n",
    "    accuracy = ((TP+TN)/(TP+TN+FP+FN))*100\n",
    "    return [[TP],[FP],[FN],[TN],[precision],[sensitivity],[specificity],[fscore],[accuracy]]"
   ]
  },
  {
   "cell_type": "markdown",
   "metadata": {},
   "source": [
    "## Apply model revelation function on LSTM output"
   ]
  },
  {
   "cell_type": "code",
   "execution_count": 8,
   "metadata": {},
   "outputs": [],
   "source": [
    "model_evaluation = []\n",
    "# MTD wise performace evaluation\n",
    "for i in range(0,5):\n",
    "    MTDi = accuracy(predict[:,i],test_2[:,i])\n",
    "    model_evaluation.append(MTDi)\n",
    "# over all performace evaluation\n",
    "MTDi = accuracy(predict,test_2)\n",
    "model_evaluation.append(MTDi)"
   ]
  },
  {
   "cell_type": "code",
   "execution_count": 9,
   "metadata": {},
   "outputs": [],
   "source": [
    "## Create dataframe contain model evaltuon parameter values"
   ]
  },
  {
   "cell_type": "code",
   "execution_count": 10,
   "metadata": {},
   "outputs": [
    {
     "data": {
      "text/html": [
       "<div>\n",
       "<style scoped>\n",
       "    .dataframe tbody tr th:only-of-type {\n",
       "        vertical-align: middle;\n",
       "    }\n",
       "\n",
       "    .dataframe tbody tr th {\n",
       "        vertical-align: top;\n",
       "    }\n",
       "\n",
       "    .dataframe thead th {\n",
       "        text-align: right;\n",
       "    }\n",
       "</style>\n",
       "<table border=\"1\" class=\"dataframe\">\n",
       "  <thead>\n",
       "    <tr style=\"text-align: right;\">\n",
       "      <th></th>\n",
       "      <th>TP</th>\n",
       "      <th>FP</th>\n",
       "      <th>FN</th>\n",
       "      <th>TN</th>\n",
       "      <th>precision</th>\n",
       "      <th>sensitivity</th>\n",
       "      <th>specificity</th>\n",
       "      <th>fscore</th>\n",
       "      <th>accuracy</th>\n",
       "    </tr>\n",
       "  </thead>\n",
       "  <tbody>\n",
       "    <tr>\n",
       "      <th>MTD X</th>\n",
       "      <td>1017.0</td>\n",
       "      <td>110.0</td>\n",
       "      <td>53.0</td>\n",
       "      <td>1208.0</td>\n",
       "      <td>90.239574</td>\n",
       "      <td>95.046729</td>\n",
       "      <td>91.654021</td>\n",
       "      <td>92.580792</td>\n",
       "      <td>93.174204</td>\n",
       "    </tr>\n",
       "    <tr>\n",
       "      <th>MTD Y</th>\n",
       "      <td>1158.0</td>\n",
       "      <td>1177.0</td>\n",
       "      <td>28.0</td>\n",
       "      <td>25.0</td>\n",
       "      <td>49.593148</td>\n",
       "      <td>97.639123</td>\n",
       "      <td>2.079867</td>\n",
       "      <td>65.776768</td>\n",
       "      <td>49.539363</td>\n",
       "    </tr>\n",
       "    <tr>\n",
       "      <th>MTD Z</th>\n",
       "      <td>752.0</td>\n",
       "      <td>318.0</td>\n",
       "      <td>0.0</td>\n",
       "      <td>1318.0</td>\n",
       "      <td>70.280374</td>\n",
       "      <td>100.000000</td>\n",
       "      <td>80.562347</td>\n",
       "      <td>82.546652</td>\n",
       "      <td>86.683417</td>\n",
       "    </tr>\n",
       "    <tr>\n",
       "      <th>MTD T</th>\n",
       "      <td>839.0</td>\n",
       "      <td>348.0</td>\n",
       "      <td>0.0</td>\n",
       "      <td>1201.0</td>\n",
       "      <td>70.682393</td>\n",
       "      <td>100.000000</td>\n",
       "      <td>77.533893</td>\n",
       "      <td>82.823297</td>\n",
       "      <td>85.427136</td>\n",
       "    </tr>\n",
       "    <tr>\n",
       "      <th>MTD W</th>\n",
       "      <td>839.0</td>\n",
       "      <td>0.0</td>\n",
       "      <td>0.0</td>\n",
       "      <td>1549.0</td>\n",
       "      <td>100.000000</td>\n",
       "      <td>100.000000</td>\n",
       "      <td>100.000000</td>\n",
       "      <td>100.000000</td>\n",
       "      <td>100.000000</td>\n",
       "    </tr>\n",
       "    <tr>\n",
       "      <th>Overall</th>\n",
       "      <td>4605.0</td>\n",
       "      <td>1953.0</td>\n",
       "      <td>81.0</td>\n",
       "      <td>5301.0</td>\n",
       "      <td>70.219579</td>\n",
       "      <td>98.271447</td>\n",
       "      <td>73.076923</td>\n",
       "      <td>81.910352</td>\n",
       "      <td>82.964824</td>\n",
       "    </tr>\n",
       "  </tbody>\n",
       "</table>\n",
       "</div>"
      ],
      "text/plain": [
       "             TP      FP    FN      TN   precision  sensitivity  specificity  \\\n",
       "MTD X    1017.0   110.0  53.0  1208.0   90.239574    95.046729    91.654021   \n",
       "MTD Y    1158.0  1177.0  28.0    25.0   49.593148    97.639123     2.079867   \n",
       "MTD Z     752.0   318.0   0.0  1318.0   70.280374   100.000000    80.562347   \n",
       "MTD T     839.0   348.0   0.0  1201.0   70.682393   100.000000    77.533893   \n",
       "MTD W     839.0     0.0   0.0  1549.0  100.000000   100.000000   100.000000   \n",
       "Overall  4605.0  1953.0  81.0  5301.0   70.219579    98.271447    73.076923   \n",
       "\n",
       "             fscore    accuracy  \n",
       "MTD X     92.580792   93.174204  \n",
       "MTD Y     65.776768   49.539363  \n",
       "MTD Z     82.546652   86.683417  \n",
       "MTD T     82.823297   85.427136  \n",
       "MTD W    100.000000  100.000000  \n",
       "Overall   81.910352   82.964824  "
      ]
     },
     "execution_count": 10,
     "metadata": {},
     "output_type": "execute_result"
    }
   ],
   "source": [
    "model_evaluation_array = np.array(model_evaluation)\n",
    "columns = [\"TP\", \"FP\", \"FN\", \"TN\", \"precision\",\"sensitivity\",\"specificity\",\"fscore\",\"accuracy\"]\n",
    "rows= [\"MTD X\", \"MTD Y\", \"MTD Z\", \"MTD T\",\"MTD W\", \"Overall\"]\n",
    "model_evaluation_pd = pd.DataFrame(model_evaluation_array[:,:,0],columns = columns)\n",
    "model_evaluation_pd = model_evaluation_pd.set_index(pd.Index(rows))\n",
    "model_evaluation_pd"
   ]
  },
  {
   "cell_type": "markdown",
   "metadata": {},
   "source": [
    "Therefore, LSTMs can be viewed as a promising approach for predicting source trafﬁc prediction in a Fast Uplink Grant environment. Furthermore, apart from the better metrics such as accuracy, LSTMs have an added advantage in scalability. They have the capability to handle any number of sequences from each MTD, essentially when IoT networks grow in size."
   ]
  },
  {
   "cell_type": "code",
   "execution_count": 11,
   "metadata": {},
   "outputs": [],
   "source": [
    "def accuracy(predicted, actual):\n",
    "    TP = 0\n",
    "    TN = 0\n",
    "    FP = 0\n",
    "    FN = 0\n",
    "    \n",
    "    for idx, value in np.ndenumerate(predicted):\n",
    "        if predicted[idx] == 1 and actual[idx] == 1:\n",
    "            TP+=1\n",
    "        elif predicted[idx] == 1 and actual[idx] == 0:\n",
    "            FP+=1\n",
    "        elif predicted[idx] == 0 and actual[idx] == 1:\n",
    "            FN+=1\n",
    "        elif predicted[idx] == 0 and actual[idx] == 0:\n",
    "            TN+=1\n",
    "                \n",
    "    sensitivity = (TP / (TP + FN))*100\n",
    "    FDR = (FP / (TP + FP))*100\n",
    "    accuracy = ((TP+TN)/(TP+TN+FP+FN))*100\n",
    "    return [[TP], [FP], [FN], [TN], [sensitivity], [FDR] ,[accuracy]]"
   ]
  },
  {
   "cell_type": "code",
   "execution_count": 12,
   "metadata": {},
   "outputs": [],
   "source": [
    "model_evaluation = []\n",
    "# MTD wise performace evaluation\n",
    "for i in range(0,5):\n",
    "    MTDi = accuracy(predict[:,i],test_2[:,i])\n",
    "    model_evaluation.append(MTDi)\n",
    "# over all performace evaluation\n",
    "MTDi = accuracy(predict,test_2)\n",
    "model_evaluation.append(MTDi)"
   ]
  },
  {
   "cell_type": "code",
   "execution_count": 13,
   "metadata": {},
   "outputs": [
    {
     "data": {
      "text/html": [
       "<div>\n",
       "<style scoped>\n",
       "    .dataframe tbody tr th:only-of-type {\n",
       "        vertical-align: middle;\n",
       "    }\n",
       "\n",
       "    .dataframe tbody tr th {\n",
       "        vertical-align: top;\n",
       "    }\n",
       "\n",
       "    .dataframe thead th {\n",
       "        text-align: right;\n",
       "    }\n",
       "</style>\n",
       "<table border=\"1\" class=\"dataframe\">\n",
       "  <thead>\n",
       "    <tr style=\"text-align: right;\">\n",
       "      <th></th>\n",
       "      <th>TP</th>\n",
       "      <th>FP</th>\n",
       "      <th>FN</th>\n",
       "      <th>TN</th>\n",
       "      <th>Reduction of RA requests (sensitivity)</th>\n",
       "      <th>Resource wastage (False discovery rate - FDR)</th>\n",
       "      <th>Accuracy</th>\n",
       "    </tr>\n",
       "  </thead>\n",
       "  <tbody>\n",
       "    <tr>\n",
       "      <th>MTD X</th>\n",
       "      <td>1017.0</td>\n",
       "      <td>110.0</td>\n",
       "      <td>53.0</td>\n",
       "      <td>1208.0</td>\n",
       "      <td>95.046729</td>\n",
       "      <td>9.760426</td>\n",
       "      <td>93.174204</td>\n",
       "    </tr>\n",
       "    <tr>\n",
       "      <th>MTD Y</th>\n",
       "      <td>1158.0</td>\n",
       "      <td>1177.0</td>\n",
       "      <td>28.0</td>\n",
       "      <td>25.0</td>\n",
       "      <td>97.639123</td>\n",
       "      <td>50.406852</td>\n",
       "      <td>49.539363</td>\n",
       "    </tr>\n",
       "    <tr>\n",
       "      <th>MTD Z</th>\n",
       "      <td>752.0</td>\n",
       "      <td>318.0</td>\n",
       "      <td>0.0</td>\n",
       "      <td>1318.0</td>\n",
       "      <td>100.000000</td>\n",
       "      <td>29.719626</td>\n",
       "      <td>86.683417</td>\n",
       "    </tr>\n",
       "    <tr>\n",
       "      <th>MTD T</th>\n",
       "      <td>839.0</td>\n",
       "      <td>348.0</td>\n",
       "      <td>0.0</td>\n",
       "      <td>1201.0</td>\n",
       "      <td>100.000000</td>\n",
       "      <td>29.317607</td>\n",
       "      <td>85.427136</td>\n",
       "    </tr>\n",
       "    <tr>\n",
       "      <th>MTD W</th>\n",
       "      <td>839.0</td>\n",
       "      <td>0.0</td>\n",
       "      <td>0.0</td>\n",
       "      <td>1549.0</td>\n",
       "      <td>100.000000</td>\n",
       "      <td>0.000000</td>\n",
       "      <td>100.000000</td>\n",
       "    </tr>\n",
       "    <tr>\n",
       "      <th>Overall</th>\n",
       "      <td>4605.0</td>\n",
       "      <td>1953.0</td>\n",
       "      <td>81.0</td>\n",
       "      <td>5301.0</td>\n",
       "      <td>98.271447</td>\n",
       "      <td>29.780421</td>\n",
       "      <td>82.964824</td>\n",
       "    </tr>\n",
       "  </tbody>\n",
       "</table>\n",
       "</div>"
      ],
      "text/plain": [
       "             TP      FP    FN      TN  \\\n",
       "MTD X    1017.0   110.0  53.0  1208.0   \n",
       "MTD Y    1158.0  1177.0  28.0    25.0   \n",
       "MTD Z     752.0   318.0   0.0  1318.0   \n",
       "MTD T     839.0   348.0   0.0  1201.0   \n",
       "MTD W     839.0     0.0   0.0  1549.0   \n",
       "Overall  4605.0  1953.0  81.0  5301.0   \n",
       "\n",
       "         Reduction of RA requests (sensitivity)   \\\n",
       "MTD X                                  95.046729   \n",
       "MTD Y                                  97.639123   \n",
       "MTD Z                                 100.000000   \n",
       "MTD T                                 100.000000   \n",
       "MTD W                                 100.000000   \n",
       "Overall                                98.271447   \n",
       "\n",
       "         Resource wastage (False discovery rate - FDR)    Accuracy  \n",
       "MTD X                                         9.760426   93.174204  \n",
       "MTD Y                                        50.406852   49.539363  \n",
       "MTD Z                                        29.719626   86.683417  \n",
       "MTD T                                        29.317607   85.427136  \n",
       "MTD W                                         0.000000  100.000000  \n",
       "Overall                                      29.780421   82.964824  "
      ]
     },
     "execution_count": 13,
     "metadata": {},
     "output_type": "execute_result"
    }
   ],
   "source": [
    "model_evaluation_array = np.array(model_evaluation)\n",
    "columns = [\"TP\", \"FP\", \"FN\", \"TN\", \"Reduction of RA requests (sensitivity) \",\"Resource wastage (False discovery rate - FDR)\",\"Accuracy\"]\n",
    "rows= [\"MTD X\", \"MTD Y\", \"MTD Z\", \"MTD T\",\"MTD W\", \"Overall\"]\n",
    "model_evaluation_pd = pd.DataFrame(model_evaluation_array[:,:,0],columns = columns)\n",
    "model_evaluation_pd = model_evaluation_pd.set_index(pd.Index(rows))\n",
    "model_evaluation_pd"
   ]
  },
  {
   "cell_type": "code",
   "execution_count": 14,
   "metadata": {},
   "outputs": [
    {
     "data": {
      "text/plain": [
       "array([1208.,   25., 1318., 1201., 1549.])"
      ]
     },
     "execution_count": 14,
     "metadata": {},
     "output_type": "execute_result"
    }
   ],
   "source": [
    "model_evaluation_pd.iloc[0:5:1,3].values"
   ]
  },
  {
   "cell_type": "code",
   "execution_count": 20,
   "metadata": {},
   "outputs": [],
   "source": [
    "# number of columns\n",
    "NC = 3\n",
    "barWidth = 1/(NC+1)\n",
    "row = []\n",
    "for x in range(0,NC):\n",
    "    r = float(x)/(NC+1)\n",
    "    row.append(r)\n",
    "row = np.array(row)\n",
    "\n",
    "# number of rows\n",
    "NR = 6\n",
    "Rows = []\n",
    "for x in range(0,NR):\n",
    "    row_1 = []\n",
    "    Rows.append(row+x)\n",
    "Rows = np.array(Rows)\n",
    "# getting the transpose\n",
    "Rows = np.transpose(Rows)"
   ]
  },
  {
   "cell_type": "code",
   "execution_count": 21,
   "metadata": {},
   "outputs": [
    {
     "data": {
      "image/png": "[encoded data removed]",
      "text/plain": [
       "<Figure size 1440x720 with 1 Axes>"
      ]
     },
     "metadata": {
      "needs_background": "light"
     },
     "output_type": "display_data"
    }
   ],
   "source": [
    "# Make the plot\n",
    "plt.bar(Rows[0], model_evaluation_pd.iloc[:,4].values, color='#4cdbff', width=barWidth, edgecolor='white', label='Sensitivity')\n",
    "plt.bar(Rows[1], model_evaluation_pd.iloc[:,5].values, color='#990000', width=barWidth, edgecolor='white', label='FDR')\n",
    "plt.bar(Rows[2], model_evaluation_pd.iloc[:,6].values, color='#00667f', width=barWidth, edgecolor='white', label='Accuracy')\n",
    " \n",
    "# Add xticks on the middle of the group bars\n",
    "plt.xlabel('MTDs', fontweight='bold')\n",
    "plt.ylabel('Percentage (%)', fontweight='bold')\n",
    "plt.xticks([r + barWidth for r in range(NR)], ['MTD X', 'MTD Y', 'MTD Z', 'MTD W', 'MTD T', 'Overall'])\n",
    " \n",
    "# Create legend & Show graphic\n",
    "plt.rcParams['figure.figsize']=(20,10)\n",
    "font ={'size':20}\n",
    "plt.rc('font',**font)\n",
    "plt.legend()\n",
    "plt.show()"
   ]
  },
  {
   "cell_type": "code",
   "execution_count": 17,
   "metadata": {},
   "outputs": [],
   "source": [
    "# number of columns\n",
    "NC = 4\n",
    "barWidth = 1/(NC+1)\n",
    "row = []\n",
    "for x in range(0,NC):\n",
    "    r = float(x)/(NC+1)\n",
    "    row.append(r)\n",
    "row = np.array(row)\n",
    "\n",
    "# number of rows\n",
    "NR = 5\n",
    "Rows = []\n",
    "for x in range(0,NR):\n",
    "    row_1 = []\n",
    "    Rows.append(row+x)\n",
    "Rows = np.array(Rows)\n",
    "# getting the transpose\n",
    "Rows = np.transpose(Rows)"
   ]
  },
  {
   "cell_type": "code",
   "execution_count": 18,
   "metadata": {},
   "outputs": [
    {
     "data": {
      "image/png": "[encoded data removed]",
      "text/plain": [
       "<Figure size 1440x720 with 1 Axes>"
      ]
     },
     "metadata": {
      "needs_background": "light"
     },
     "output_type": "display_data"
    }
   ],
   "source": [
    "# Make the plot\n",
    "plt.bar(Rows[0], model_evaluation_pd.iloc[0:5:1,0].values, color='#043b25', width=barWidth, edgecolor='white', label='TP')\n",
    "plt.bar(Rows[1], model_evaluation_pd.iloc[0:5:1,1].values, color='#990000', width=barWidth, edgecolor='white', label='FP')\n",
    "plt.bar(Rows[2], model_evaluation_pd.iloc[0:5:1,2].values, color='#ff7f7f', width=barWidth, edgecolor='white', label='FN')\n",
    "plt.bar(Rows[3], model_evaluation_pd.iloc[0:5:1,3].values, color='#699985', width=barWidth, edgecolor='white', label='TN')\n",
    " \n",
    "# Add xticks on the middle of the group bars\n",
    "plt.xlabel('MTDs', fontweight='bold')\n",
    "plt.xticks([r + barWidth for r in range(NR)], ['MTD X', 'MTD Y', 'MTD Z', 'MTD W', 'MTD T', 'Overall'])\n",
    " \n",
    "# Create legend & Show graphic\n",
    "plt.rcParams['figure.figsize']=(20,10)\n",
    "font ={'size':20}\n",
    "plt.rc('font',**font)\n",
    "plt.legend()\n",
    "plt.show()"
   ]
  }
 ],
 "metadata": {
  "kernelspec": {
   "display_name": "conda_amazonei_tensorflow_p36",
   "language": "python",
   "name": "conda_amazonei_tensorflow_p36"
  },
  "language_info": {
   "codemirror_mode": {
    "name": "ipython",
    "version": 3
   },
   "file_extension": ".py",
   "mimetype": "text/x-python",
   "name": "python",
   "nbconvert_exporter": "python",
   "pygments_lexer": "ipython3",
   "version": "3.6.10"
  }
 },
 "nbformat": 4,
 "nbformat_minor": 4
}
