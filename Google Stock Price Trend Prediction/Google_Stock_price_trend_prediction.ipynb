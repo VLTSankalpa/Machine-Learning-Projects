{
 "cells": [
  {
   "cell_type": "markdown",
   "metadata": {
    "colab_type": "text",
    "id": "fM5CW3bH6fp9"
   },
   "source": [
    "# Recurrent Neural Network (RNN)\n",
    "## Part 1 - Data Preprocessing"
   ]
  },
  {
   "cell_type": "code",
   "execution_count": 1,
   "metadata": {
    "colab": {},
    "colab_type": "code",
    "id": "TbOKEkCv58oQ"
   },
   "outputs": [],
   "source": [
    "# Importing the libraries\n",
    "import numpy as np\n",
    "import matplotlib.pyplot as plt\n",
    "import pandas as pd\n",
    "\n",
    "from sklearn.metrics import confusion_matrix\n",
    "from sklearn.metrics import accuracy_score \n",
    "from sklearn.metrics import classification_report "
   ]
  },
  {
   "cell_type": "code",
   "execution_count": 2,
   "metadata": {
    "colab": {},
    "colab_type": "code",
    "id": "l-fTWd_65_Ci"
   },
   "outputs": [],
   "source": [
    "# Importing the training set\n",
    "dataset_train = pd.read_csv('GOOGL_2006-01-01_to_2018-01-01.csv')\n",
    "training_set = dataset_train.iloc[:, 1:2].values"
   ]
  },
  {
   "cell_type": "code",
   "execution_count": 3,
   "metadata": {
    "colab": {},
    "colab_type": "code",
    "id": "Ja1yyv2u6CSp"
   },
   "outputs": [],
   "source": [
    "# Feature Scaling\n",
    "from sklearn.preprocessing import MinMaxScaler\n",
    "sc = MinMaxScaler(feature_range = (0, 1))\n",
    "training_set_scaled = sc.fit_transform(training_set)"
   ]
  },
  {
   "cell_type": "code",
   "execution_count": 4,
   "metadata": {
    "colab": {
     "base_uri": "https://localhost:8080/",
     "height": 35
    },
    "colab_type": "code",
    "id": "YEjrYC-oTKs6",
    "outputId": "b584dcd9-ebde-43cf-f9c0-0aed300e369a"
   },
   "outputs": [
    {
     "data": {
      "text/plain": [
       "(3019, 1)"
      ]
     },
     "execution_count": 4,
     "metadata": {},
     "output_type": "execute_result"
    }
   ],
   "source": [
    "training_set_scaled.shape"
   ]
  },
  {
   "cell_type": "code",
   "execution_count": 5,
   "metadata": {},
   "outputs": [
    {
     "data": {
      "text/plain": [
       "array([[0.08415035],\n",
       "       [0.09539422],\n",
       "       [0.09649759],\n",
       "       ...,\n",
       "       [0.98274539],\n",
       "       [0.97817429],\n",
       "       [0.97107069]])"
      ]
     },
     "execution_count": 5,
     "metadata": {},
     "output_type": "execute_result"
    }
   ],
   "source": [
    "training_set_scaled"
   ]
  },
  {
   "cell_type": "code",
   "execution_count": 6,
   "metadata": {
    "colab": {},
    "colab_type": "code",
    "id": "fV69LSCb6FFL"
   },
   "outputs": [],
   "source": [
    "# Creating a data structure with 60 timesteps and 1 output\n",
    "X_train = []\n",
    "y_train = []\n",
    "for i in range(60, 2919):\n",
    "    X_train.append(training_set_scaled[i-60:i, 0])\n",
    "    y_train.append(training_set_scaled[i, 0])\n",
    "X_train, y_train = np.array(X_train), np.array(y_train)\n",
    "\n",
    "X_test = []\n",
    "y_test = []\n",
    "for i in range(2919, 3019):\n",
    "    X_test.append(training_set_scaled[i-60:i, 0])\n",
    "    y_test.append(training_set_scaled[i, 0])\n",
    "X_test, y_test = np.array(X_test), np.array(y_test)"
   ]
  },
  {
   "cell_type": "code",
   "execution_count": 7,
   "metadata": {
    "colab": {
     "base_uri": "https://localhost:8080/",
     "height": 35
    },
    "colab_type": "code",
    "id": "79ts26H6_OgR",
    "outputId": "0c9afd70-a6a7-47ef-ee29-5025230e22af"
   },
   "outputs": [
    {
     "data": {
      "text/plain": [
       "(2859, 60)"
      ]
     },
     "execution_count": 7,
     "metadata": {},
     "output_type": "execute_result"
    }
   ],
   "source": [
    "X_train.shape"
   ]
  },
  {
   "cell_type": "code",
   "execution_count": 8,
   "metadata": {
    "colab": {
     "base_uri": "https://localhost:8080/",
     "height": 35
    },
    "colab_type": "code",
    "id": "5819p88U_YGe",
    "outputId": "00b269bc-2e8b-4eb1-d05d-b922b9f5bb2b"
   },
   "outputs": [
    {
     "data": {
      "text/plain": [
       "(2859,)"
      ]
     },
     "execution_count": 8,
     "metadata": {},
     "output_type": "execute_result"
    }
   ],
   "source": [
    "y_train.shape"
   ]
  },
  {
   "cell_type": "code",
   "execution_count": 9,
   "metadata": {},
   "outputs": [
    {
     "data": {
      "text/plain": [
       "(100, 60)"
      ]
     },
     "execution_count": 9,
     "metadata": {},
     "output_type": "execute_result"
    }
   ],
   "source": [
    "X_test.shape"
   ]
  },
  {
   "cell_type": "code",
   "execution_count": 10,
   "metadata": {},
   "outputs": [
    {
     "data": {
      "text/plain": [
       "(100,)"
      ]
     },
     "execution_count": 10,
     "metadata": {},
     "output_type": "execute_result"
    }
   ],
   "source": [
    "y_test.shape"
   ]
  },
  {
   "cell_type": "code",
   "execution_count": 11,
   "metadata": {
    "colab": {},
    "colab_type": "code",
    "id": "hr4QoLUQ6HlI"
   },
   "outputs": [],
   "source": [
    "# Reshaping\n",
    "X_train = np.reshape(X_train, (X_train.shape[0], X_train.shape[1], 1))\n",
    "X_test = np.reshape(X_test, (X_test.shape[0], X_test.shape[1], 1))"
   ]
  },
  {
   "cell_type": "code",
   "execution_count": 12,
   "metadata": {},
   "outputs": [
    {
     "data": {
      "text/plain": [
       "(2859, 60, 1)"
      ]
     },
     "execution_count": 12,
     "metadata": {},
     "output_type": "execute_result"
    }
   ],
   "source": [
    "X_train.shape"
   ]
  },
  {
   "cell_type": "code",
   "execution_count": 13,
   "metadata": {},
   "outputs": [
    {
     "data": {
      "text/plain": [
       "(100, 60, 1)"
      ]
     },
     "execution_count": 13,
     "metadata": {},
     "output_type": "execute_result"
    }
   ],
   "source": [
    "X_test.shape"
   ]
  },
  {
   "cell_type": "markdown",
   "metadata": {
    "colab_type": "text",
    "id": "x9WGnJ-q6_d8"
   },
   "source": [
    "## Part 2 - Building the RNN"
   ]
  },
  {
   "cell_type": "code",
   "execution_count": 14,
   "metadata": {
    "colab": {
     "base_uri": "https://localhost:8080/",
     "height": 83
    },
    "colab_type": "code",
    "id": "z5Y5ECoW6KJW",
    "outputId": "cf070a4c-b1be-46d2-b983-5d7a296f5da7"
   },
   "outputs": [
    {
     "name": "stderr",
     "output_type": "stream",
     "text": [
      "Using TensorFlow backend.\n"
     ]
    }
   ],
   "source": [
    "# Importing the Keras libraries and packages\n",
    "from keras.models import Sequential\n",
    "from keras.layers import Dense\n",
    "from keras.layers import LSTM\n",
    "from keras.layers import Dropout"
   ]
  },
  {
   "cell_type": "code",
   "execution_count": 15,
   "metadata": {
    "colab": {
     "base_uri": "https://localhost:8080/",
     "height": 1000
    },
    "colab_type": "code",
    "id": "ZMsRgMPw6Oj2",
    "outputId": "3cc10a1b-5f51-4545-d7c4-0d47c200e951"
   },
   "outputs": [
    {
     "name": "stdout",
     "output_type": "stream",
     "text": [
      "Model: \"sequential_1\"\n",
      "_________________________________________________________________\n",
      "Layer (type)                 Output Shape              Param #   \n",
      "=================================================================\n",
      "lstm_1 (LSTM)                (None, 60, 100)           40800     \n",
      "_________________________________________________________________\n",
      "dropout_1 (Dropout)          (None, 60, 100)           0         \n",
      "_________________________________________________________________\n",
      "lstm_2 (LSTM)                (None, 60, 100)           80400     \n",
      "_________________________________________________________________\n",
      "dropout_2 (Dropout)          (None, 60, 100)           0         \n",
      "_________________________________________________________________\n",
      "lstm_3 (LSTM)                (None, 60, 100)           80400     \n",
      "_________________________________________________________________\n",
      "dropout_3 (Dropout)          (None, 60, 100)           0         \n",
      "_________________________________________________________________\n",
      "lstm_4 (LSTM)                (None, 100)               80400     \n",
      "_________________________________________________________________\n",
      "dropout_4 (Dropout)          (None, 100)               0         \n",
      "_________________________________________________________________\n",
      "dense_1 (Dense)              (None, 1)                 101       \n",
      "=================================================================\n",
      "Total params: 282,101\n",
      "Trainable params: 282,101\n",
      "Non-trainable params: 0\n",
      "_________________________________________________________________\n",
      "WARNING:tensorflow:From /home/ec2-user/anaconda3/envs/amazonei_tensorflow_p36/lib/python3.6/site-packages/keras/backend/tensorflow_backend.py:422: The name tf.global_variables is deprecated. Please use tf.compat.v1.global_variables instead.\n",
      "\n",
      "Epoch 1/50\n",
      "2859/2859 [==============================] - 12s 4ms/step - loss: 0.0135\n",
      "Epoch 2/50\n",
      "2859/2859 [==============================] - 10s 4ms/step - loss: 0.0013\n",
      "Epoch 3/50\n",
      "2859/2859 [==============================] - 10s 4ms/step - loss: 0.0014\n",
      "Epoch 4/50\n",
      "2859/2859 [==============================] - 10s 4ms/step - loss: 0.0013\n",
      "Epoch 5/50\n",
      "2859/2859 [==============================] - 10s 4ms/step - loss: 0.0011\n",
      "Epoch 6/50\n",
      "2859/2859 [==============================] - 18s 6ms/step - loss: 0.0010\n",
      "Epoch 7/50\n",
      "2859/2859 [==============================] - 56s 20ms/step - loss: 0.0011\n",
      "Epoch 8/50\n",
      "2859/2859 [==============================] - 51s 18ms/step - loss: 0.0012\n",
      "Epoch 9/50\n",
      "2859/2859 [==============================] - 10s 4ms/step - loss: 0.0012\n",
      "Epoch 10/50\n",
      "2859/2859 [==============================] - 10s 4ms/step - loss: 9.0332e-04\n",
      "Epoch 11/50\n",
      "2859/2859 [==============================] - 10s 4ms/step - loss: 9.5312e-04\n",
      "Epoch 12/50\n",
      "2859/2859 [==============================] - 22s 8ms/step - loss: 9.4091e-04\n",
      "Epoch 13/50\n",
      "2859/2859 [==============================] - 54s 19ms/step - loss: 9.0900e-04\n",
      "Epoch 14/50\n",
      "2859/2859 [==============================] - 60s 21ms/step - loss: 9.8908e-04\n",
      "Epoch 15/50\n",
      "2859/2859 [==============================] - 54s 19ms/step - loss: 9.4695e-04\n",
      "Epoch 16/50\n",
      "2859/2859 [==============================] - 54s 19ms/step - loss: 0.0010\n",
      "Epoch 17/50\n",
      "2859/2859 [==============================] - 30s 10ms/step - loss: 0.0010\n",
      "Epoch 18/50\n",
      "2859/2859 [==============================] - 10s 4ms/step - loss: 8.2738e-04\n",
      "Epoch 19/50\n",
      "2859/2859 [==============================] - 10s 4ms/step - loss: 8.5419e-04\n",
      "Epoch 20/50\n",
      "2859/2859 [==============================] - 23s 8ms/step - loss: 8.2801e-04\n",
      "Epoch 21/50\n",
      "2859/2859 [==============================] - 54s 19ms/step - loss: 9.1502e-04\n",
      "Epoch 22/50\n",
      "2859/2859 [==============================] - 54s 19ms/step - loss: 8.6871e-04\n",
      "Epoch 23/50\n",
      "2859/2859 [==============================] - 60s 21ms/step - loss: 8.4576e-04\n",
      "Epoch 24/50\n",
      "2859/2859 [==============================] - 54s 19ms/step - loss: 7.7297e-04\n",
      "Epoch 25/50\n",
      "2859/2859 [==============================] - 33s 11ms/step - loss: 7.6776e-04\n",
      "Epoch 26/50\n",
      "2859/2859 [==============================] - 10s 4ms/step - loss: 7.2388e-04\n",
      "Epoch 27/50\n",
      "2859/2859 [==============================] - 10s 4ms/step - loss: 7.2073e-04\n",
      "Epoch 28/50\n",
      "2859/2859 [==============================] - 14s 5ms/step - loss: 7.2176e-04\n",
      "Epoch 29/50\n",
      "2859/2859 [==============================] - 60s 21ms/step - loss: 7.1534e-04\n",
      "Epoch 30/50\n",
      "2859/2859 [==============================] - 54s 19ms/step - loss: 7.0044e-04\n",
      "Epoch 31/50\n",
      "2859/2859 [==============================] - 54s 19ms/step - loss: 7.4167e-04\n",
      "Epoch 32/50\n",
      "2859/2859 [==============================] - 60s 21ms/step - loss: 6.4514e-04\n",
      "Epoch 33/50\n",
      "2859/2859 [==============================] - 37s 13ms/step - loss: 7.0446e-04\n",
      "Epoch 34/50\n",
      "2859/2859 [==============================] - 10s 4ms/step - loss: 6.8337e-04\n",
      "Epoch 35/50\n",
      "2859/2859 [==============================] - 10s 4ms/step - loss: 7.1197e-04\n",
      "Epoch 36/50\n",
      "2859/2859 [==============================] - 13s 5ms/step - loss: 6.3816e-04\n",
      "Epoch 37/50\n",
      "2859/2859 [==============================] - 51s 18ms/step - loss: 6.2685e-04\n",
      "Epoch 38/50\n",
      "2859/2859 [==============================] - 60s 21ms/step - loss: 6.5511e-04\n",
      "Epoch 39/50\n",
      "2859/2859 [==============================] - 54s 19ms/step - loss: 6.9067e-04\n",
      "Epoch 40/50\n",
      "2859/2859 [==============================] - 54s 19ms/step - loss: 6.6312e-04\n",
      "Epoch 41/50\n",
      "2859/2859 [==============================] - 45s 16ms/step - loss: 6.3104e-04\n",
      "Epoch 42/50\n",
      "2859/2859 [==============================] - 11s 4ms/step - loss: 6.6490e-04\n",
      "Epoch 43/50\n",
      "2859/2859 [==============================] - 10s 4ms/step - loss: 6.2393e-04\n",
      "Epoch 44/50\n",
      "2859/2859 [==============================] - 12s 4ms/step - loss: 5.4652e-04\n",
      "Epoch 45/50\n",
      "2859/2859 [==============================] - 48s 17ms/step - loss: 5.7310e-04\n",
      "Epoch 46/50\n",
      "2859/2859 [==============================] - 54s 19ms/step - loss: 6.8712e-04\n",
      "Epoch 47/50\n",
      "2859/2859 [==============================] - 57s 20ms/step - loss: 6.2337e-04\n",
      "Epoch 48/50\n",
      "2859/2859 [==============================] - 56s 20ms/step - loss: 5.7407e-04\n",
      "Epoch 49/50\n",
      "2859/2859 [==============================] - 50s 17ms/step - loss: 5.5733e-04\n",
      "Epoch 50/50\n",
      "2859/2859 [==============================] - 10s 4ms/step - loss: 6.0441e-04\n"
     ]
    }
   ],
   "source": [
    "# Initialising the RNN\n",
    "regressor = Sequential()\n",
    "\n",
    "# Adding the first LSTM layer and some Dropout regularisation\n",
    "regressor.add(LSTM(units = 100, return_sequences = True, input_shape = (X_train.shape[1], 1)))\n",
    "regressor.add(Dropout(0.2))\n",
    "\n",
    "# Adding a second LSTM layer and some Dropout regularisation\n",
    "regressor.add(LSTM(units = 100, return_sequences = True))\n",
    "regressor.add(Dropout(0.2))\n",
    "\n",
    "# Adding a third LSTM layer and some Dropout regularisation\n",
    "regressor.add(LSTM(units = 100, return_sequences = True))\n",
    "regressor.add(Dropout(0.2))\n",
    "\n",
    "# Adding a fourth LSTM layer and some Dropout regularisation\n",
    "regressor.add(LSTM(units = 100))\n",
    "regressor.add(Dropout(0.2))\n",
    "\n",
    "# Adding the output layer\n",
    "regressor.add(Dense(units = 1))\n",
    "\n",
    "# Compiling the RNN\n",
    "regressor.compile(optimizer = 'adam', loss = 'mean_squared_error')\n",
    "\n",
    "regressor.summary();\n",
    "\n",
    "# Fitting the RNN to the Training set\n",
    "history = regressor.fit(X_train, y_train, epochs = 50, batch_size = 60)"
   ]
  },
  {
   "cell_type": "code",
   "execution_count": 16,
   "metadata": {
    "colab": {
     "base_uri": "https://localhost:8080/",
     "height": 636
    },
    "colab_type": "code",
    "id": "5E2a7JnYC0pR",
    "outputId": "31dacfc6-1c5a-4ca5-f26e-f384cc717e66"
   },
   "outputs": [
    {
     "data": {
      "image/png": "[encoded data removed]",
      "text/plain": [
       "<Figure size 1440x720 with 1 Axes>"
      ]
     },
     "metadata": {},
     "output_type": "display_data"
    }
   ],
   "source": [
    "plt.rcParams['figure.figsize']=(20,10)\n",
    "font ={'size':15}\n",
    "plt.rc('font',**font)\n",
    "plt.plot(history.history['loss'])\n",
    "plt.title('Model loss function')\n",
    "plt.ylabel('Loss')\n",
    "plt.xlabel('Epoch')\n",
    "plt.legend(['Loss'], loc='upper right')\n",
    "plt.show()"
   ]
  },
  {
   "cell_type": "markdown",
   "metadata": {
    "colab_type": "text",
    "id": "nGMLI-dY7HQu"
   },
   "source": [
    "## Part 3 - Making the predictions"
   ]
  },
  {
   "cell_type": "code",
   "execution_count": 17,
   "metadata": {
    "colab": {},
    "colab_type": "code",
    "id": "43x_BK8JJfRr"
   },
   "outputs": [],
   "source": [
    "predicted_stock_price = regressor.predict(X_test)\n",
    "predicted_stock_price = sc.inverse_transform(predicted_stock_price)"
   ]
  },
  {
   "cell_type": "code",
   "execution_count": 18,
   "metadata": {},
   "outputs": [],
   "source": [
    "real_stock_price = training_set[2919:3019:1]"
   ]
  },
  {
   "cell_type": "markdown",
   "metadata": {
    "colab_type": "text",
    "id": "_lsikZfL7SWa"
   },
   "source": [
    "## Part 4 - Visualising the results"
   ]
  },
  {
   "cell_type": "code",
   "execution_count": 19,
   "metadata": {
    "colab": {
     "base_uri": "https://localhost:8080/",
     "height": 636
    },
    "colab_type": "code",
    "id": "OWDlcsAc6bq1",
    "outputId": "a6d0d3b3-ef9d-465f-e8cc-0ff7df027919"
   },
   "outputs": [
    {
     "data": {
      "image/png": "[encoded data removed]",
      "text/plain": [
       "<Figure size 1440x720 with 1 Axes>"
      ]
     },
     "metadata": {},
     "output_type": "display_data"
    }
   ],
   "source": [
    "# Visualising the results\n",
    "plt.rcParams['figure.figsize']=(20,10)\n",
    "font = {'family':'DejaVu Sans','weight':'bold','size':15}\n",
    "plt.rc('font',**font)\n",
    "plt.plot(real_stock_price, color = 'red', label = 'Real Google Stock Price')\n",
    "plt.plot(predicted_stock_price, color = 'blue', label = 'Predicted Google Stock Price')\n",
    "plt.title('Google Stock Price Prediction')\n",
    "plt.xlabel('Time')\n",
    "plt.ylabel('Google Stock Price')\n",
    "plt.legend()\n",
    "plt.show()"
   ]
  },
  {
   "cell_type": "markdown",
   "metadata": {
    "colab_type": "text",
    "id": "njwk5-YIDUym"
   },
   "source": [
    "## Part 5 - Model Performance Evaluation"
   ]
  },
  {
   "cell_type": "code",
   "execution_count": 20,
   "metadata": {
    "colab": {
     "base_uri": "https://localhost:8080/",
     "height": 35
    },
    "colab_type": "code",
    "id": "KvRFLU4kDjm3",
    "outputId": "8ffb0ee4-620b-4fb0-ca43-4948466c94da"
   },
   "outputs": [],
   "source": [
    "# Getting predicted stock price trend\n",
    "trend_prediction = []\n",
    "X = 0\n",
    "for i in range(0,99):\n",
    "  # for upwards trend of price\n",
    "  if predicted_stock_price[i] < predicted_stock_price[i+1]:\n",
    "    X = 1\n",
    "  # for downwards trend of price\n",
    "  if predicted_stock_price[i] >= predicted_stock_price[i+1]:\n",
    "    X = 0\n",
    "  trend_prediction.append(X)"
   ]
  },
  {
   "cell_type": "code",
   "execution_count": 21,
   "metadata": {
    "colab": {
     "base_uri": "https://localhost:8080/",
     "height": 35
    },
    "colab_type": "code",
    "id": "o4jVBv0aN8oV",
    "outputId": "cb3cca4d-141a-46d1-a5e7-0061c3ba20c8"
   },
   "outputs": [],
   "source": [
    "# Getting real stock price trend\n",
    "trend = []\n",
    "Y = 0\n",
    "for i in range(0,99):\n",
    "  # for upwards trend of price\n",
    "  if real_stock_price[i] < real_stock_price[i+1]:\n",
    "    Y = 1\n",
    "  # for downwards trend of price\n",
    "  if real_stock_price[i] >= real_stock_price[i+1]:\n",
    "    Y = 0\n",
    "  trend.append(Y)"
   ]
  },
  {
   "cell_type": "code",
   "execution_count": 22,
   "metadata": {
    "colab": {
     "base_uri": "https://localhost:8080/",
     "height": 54
    },
    "colab_type": "code",
    "id": "ze3ApU3WO_NL",
    "outputId": "e9dbeda9-85b4-4373-d423-f3bf23ebac53"
   },
   "outputs": [
    {
     "name": "stdout",
     "output_type": "stream",
     "text": [
      "[[17 29]\n",
      " [20 33]]\n"
     ]
    }
   ],
   "source": [
    "print(confusion_matrix(trend, trend_prediction))"
   ]
  },
  {
   "cell_type": "code",
   "execution_count": 23,
   "metadata": {
    "colab": {
     "base_uri": "https://localhost:8080/",
     "height": 35
    },
    "colab_type": "code",
    "id": "FGb8bIKYSZFV",
    "outputId": "eb417c4c-edad-4548-9bf2-7e1954feaee0"
   },
   "outputs": [
    {
     "name": "stdout",
     "output_type": "stream",
     "text": [
      "0.5050505050505051\n"
     ]
    }
   ],
   "source": [
    "print(accuracy_score(trend, trend_prediction))"
   ]
  },
  {
   "cell_type": "code",
   "execution_count": 24,
   "metadata": {
    "colab": {
     "base_uri": "https://localhost:8080/",
     "height": 240
    },
    "colab_type": "code",
    "id": "EyFsrUvLSgyB",
    "outputId": "f6de9c8f-0b9a-470b-8ffe-63fcc9f5d7a4"
   },
   "outputs": [
    {
     "name": "stdout",
     "output_type": "stream",
     "text": [
      "              precision    recall  f1-score   support\n",
      "\n",
      "           0       0.46      0.37      0.41        46\n",
      "           1       0.53      0.62      0.57        53\n",
      "\n",
      "   micro avg       0.51      0.51      0.51        99\n",
      "   macro avg       0.50      0.50      0.49        99\n",
      "weighted avg       0.50      0.51      0.50        99\n",
      "\n"
     ]
    }
   ],
   "source": [
    "print(classification_report(trend, trend_prediction))"
   ]
  }
 ],
 "metadata": {
  "accelerator": "GPU",
  "colab": {
   "collapsed_sections": [],
   "name": "Google Stock price trend prediction.ipynb",
   "provenance": []
  },
  "kernelspec": {
   "display_name": "conda_amazonei_tensorflow_p36",
   "language": "python",
   "name": "conda_amazonei_tensorflow_p36"
  },
  "language_info": {
   "codemirror_mode": {
    "name": "ipython",
    "version": 3
   },
   "file_extension": ".py",
   "mimetype": "text/x-python",
   "name": "python",
   "nbconvert_exporter": "python",
   "pygments_lexer": "ipython3",
   "version": "3.6.6"
  }
 },
 "nbformat": 4,
 "nbformat_minor": 4
}
